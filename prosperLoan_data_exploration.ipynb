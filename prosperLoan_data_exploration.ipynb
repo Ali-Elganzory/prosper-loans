{
 "cells": [
  {
   "cell_type": "markdown",
   "metadata": {},
   "source": [
    "# Prosper Exploratory Analysis\n",
    "## by Mabelly Tuchsznajder\n",
    "\n",
    "## Preliminary Wrangling\n",
    "\n",
    "Prosper is a financial company that matches investors and borrowers in a financially and socially rewarding way.\n",
    "\n",
    "The goal of this data analysis project is to understand the factors that are related to loans that were charged-off or defaulted. "
   ]
  },
  {
   "cell_type": "code",
   "execution_count": 1,
   "metadata": {},
   "outputs": [],
   "source": [
    "# import all packages and set plots to be embedded inline\n",
    "import numpy as np\n",
    "import pandas as pd\n",
    "import matplotlib.pyplot as plt\n",
    "import seaborn as sb\n",
    "\n",
    "%matplotlib inline"
   ]
  },
  {
   "cell_type": "markdown",
   "metadata": {},
   "source": [
    "#### High-level overview of Prosper dataset"
   ]
  },
  {
   "cell_type": "code",
   "execution_count": 2,
   "metadata": {},
   "outputs": [
    {
     "data": {
      "text/html": [
       "<div>\n",
       "<style scoped>\n",
       "    .dataframe tbody tr th:only-of-type {\n",
       "        vertical-align: middle;\n",
       "    }\n",
       "\n",
       "    .dataframe tbody tr th {\n",
       "        vertical-align: top;\n",
       "    }\n",
       "\n",
       "    .dataframe thead th {\n",
       "        text-align: right;\n",
       "    }\n",
       "</style>\n",
       "<table border=\"1\" class=\"dataframe\">\n",
       "  <thead>\n",
       "    <tr style=\"text-align: right;\">\n",
       "      <th></th>\n",
       "      <th>ListingKey</th>\n",
       "      <th>ListingNumber</th>\n",
       "      <th>ListingCreationDate</th>\n",
       "      <th>CreditGrade</th>\n",
       "      <th>Term</th>\n",
       "      <th>LoanStatus</th>\n",
       "      <th>ClosedDate</th>\n",
       "      <th>BorrowerAPR</th>\n",
       "      <th>BorrowerRate</th>\n",
       "      <th>LenderYield</th>\n",
       "      <th>...</th>\n",
       "      <th>LP_ServiceFees</th>\n",
       "      <th>LP_CollectionFees</th>\n",
       "      <th>LP_GrossPrincipalLoss</th>\n",
       "      <th>LP_NetPrincipalLoss</th>\n",
       "      <th>LP_NonPrincipalRecoverypayments</th>\n",
       "      <th>PercentFunded</th>\n",
       "      <th>Recommendations</th>\n",
       "      <th>InvestmentFromFriendsCount</th>\n",
       "      <th>InvestmentFromFriendsAmount</th>\n",
       "      <th>Investors</th>\n",
       "    </tr>\n",
       "  </thead>\n",
       "  <tbody>\n",
       "    <tr>\n",
       "      <th>0</th>\n",
       "      <td>1021339766868145413AB3B</td>\n",
       "      <td>193129</td>\n",
       "      <td>2007-08-26 19:09:29.263000000</td>\n",
       "      <td>C</td>\n",
       "      <td>36</td>\n",
       "      <td>Completed</td>\n",
       "      <td>2009-08-14 00:00:00</td>\n",
       "      <td>0.16516</td>\n",
       "      <td>0.1580</td>\n",
       "      <td>0.1380</td>\n",
       "      <td>...</td>\n",
       "      <td>-133.18</td>\n",
       "      <td>0.0</td>\n",
       "      <td>0.0</td>\n",
       "      <td>0.0</td>\n",
       "      <td>0.0</td>\n",
       "      <td>1.0</td>\n",
       "      <td>0</td>\n",
       "      <td>0</td>\n",
       "      <td>0.0</td>\n",
       "      <td>258</td>\n",
       "    </tr>\n",
       "    <tr>\n",
       "      <th>1</th>\n",
       "      <td>10273602499503308B223C1</td>\n",
       "      <td>1209647</td>\n",
       "      <td>2014-02-27 08:28:07.900000000</td>\n",
       "      <td>NaN</td>\n",
       "      <td>36</td>\n",
       "      <td>Current</td>\n",
       "      <td>NaN</td>\n",
       "      <td>0.12016</td>\n",
       "      <td>0.0920</td>\n",
       "      <td>0.0820</td>\n",
       "      <td>...</td>\n",
       "      <td>0.00</td>\n",
       "      <td>0.0</td>\n",
       "      <td>0.0</td>\n",
       "      <td>0.0</td>\n",
       "      <td>0.0</td>\n",
       "      <td>1.0</td>\n",
       "      <td>0</td>\n",
       "      <td>0</td>\n",
       "      <td>0.0</td>\n",
       "      <td>1</td>\n",
       "    </tr>\n",
       "    <tr>\n",
       "      <th>2</th>\n",
       "      <td>0EE9337825851032864889A</td>\n",
       "      <td>81716</td>\n",
       "      <td>2007-01-05 15:00:47.090000000</td>\n",
       "      <td>HR</td>\n",
       "      <td>36</td>\n",
       "      <td>Completed</td>\n",
       "      <td>2009-12-17 00:00:00</td>\n",
       "      <td>0.28269</td>\n",
       "      <td>0.2750</td>\n",
       "      <td>0.2400</td>\n",
       "      <td>...</td>\n",
       "      <td>-24.20</td>\n",
       "      <td>0.0</td>\n",
       "      <td>0.0</td>\n",
       "      <td>0.0</td>\n",
       "      <td>0.0</td>\n",
       "      <td>1.0</td>\n",
       "      <td>0</td>\n",
       "      <td>0</td>\n",
       "      <td>0.0</td>\n",
       "      <td>41</td>\n",
       "    </tr>\n",
       "    <tr>\n",
       "      <th>3</th>\n",
       "      <td>0EF5356002482715299901A</td>\n",
       "      <td>658116</td>\n",
       "      <td>2012-10-22 11:02:35.010000000</td>\n",
       "      <td>NaN</td>\n",
       "      <td>36</td>\n",
       "      <td>Current</td>\n",
       "      <td>NaN</td>\n",
       "      <td>0.12528</td>\n",
       "      <td>0.0974</td>\n",
       "      <td>0.0874</td>\n",
       "      <td>...</td>\n",
       "      <td>-108.01</td>\n",
       "      <td>0.0</td>\n",
       "      <td>0.0</td>\n",
       "      <td>0.0</td>\n",
       "      <td>0.0</td>\n",
       "      <td>1.0</td>\n",
       "      <td>0</td>\n",
       "      <td>0</td>\n",
       "      <td>0.0</td>\n",
       "      <td>158</td>\n",
       "    </tr>\n",
       "    <tr>\n",
       "      <th>4</th>\n",
       "      <td>0F023589499656230C5E3E2</td>\n",
       "      <td>909464</td>\n",
       "      <td>2013-09-14 18:38:39.097000000</td>\n",
       "      <td>NaN</td>\n",
       "      <td>36</td>\n",
       "      <td>Current</td>\n",
       "      <td>NaN</td>\n",
       "      <td>0.24614</td>\n",
       "      <td>0.2085</td>\n",
       "      <td>0.1985</td>\n",
       "      <td>...</td>\n",
       "      <td>-60.27</td>\n",
       "      <td>0.0</td>\n",
       "      <td>0.0</td>\n",
       "      <td>0.0</td>\n",
       "      <td>0.0</td>\n",
       "      <td>1.0</td>\n",
       "      <td>0</td>\n",
       "      <td>0</td>\n",
       "      <td>0.0</td>\n",
       "      <td>20</td>\n",
       "    </tr>\n",
       "  </tbody>\n",
       "</table>\n",
       "<p>5 rows × 81 columns</p>\n",
       "</div>"
      ],
      "text/plain": [
       "                ListingKey  ListingNumber            ListingCreationDate  \\\n",
       "0  1021339766868145413AB3B         193129  2007-08-26 19:09:29.263000000   \n",
       "1  10273602499503308B223C1        1209647  2014-02-27 08:28:07.900000000   \n",
       "2  0EE9337825851032864889A          81716  2007-01-05 15:00:47.090000000   \n",
       "3  0EF5356002482715299901A         658116  2012-10-22 11:02:35.010000000   \n",
       "4  0F023589499656230C5E3E2         909464  2013-09-14 18:38:39.097000000   \n",
       "\n",
       "  CreditGrade  Term LoanStatus           ClosedDate  BorrowerAPR  \\\n",
       "0           C    36  Completed  2009-08-14 00:00:00      0.16516   \n",
       "1         NaN    36    Current                  NaN      0.12016   \n",
       "2          HR    36  Completed  2009-12-17 00:00:00      0.28269   \n",
       "3         NaN    36    Current                  NaN      0.12528   \n",
       "4         NaN    36    Current                  NaN      0.24614   \n",
       "\n",
       "   BorrowerRate  LenderYield    ...     LP_ServiceFees  LP_CollectionFees  \\\n",
       "0        0.1580       0.1380    ...            -133.18                0.0   \n",
       "1        0.0920       0.0820    ...               0.00                0.0   \n",
       "2        0.2750       0.2400    ...             -24.20                0.0   \n",
       "3        0.0974       0.0874    ...            -108.01                0.0   \n",
       "4        0.2085       0.1985    ...             -60.27                0.0   \n",
       "\n",
       "   LP_GrossPrincipalLoss  LP_NetPrincipalLoss LP_NonPrincipalRecoverypayments  \\\n",
       "0                    0.0                  0.0                             0.0   \n",
       "1                    0.0                  0.0                             0.0   \n",
       "2                    0.0                  0.0                             0.0   \n",
       "3                    0.0                  0.0                             0.0   \n",
       "4                    0.0                  0.0                             0.0   \n",
       "\n",
       "   PercentFunded  Recommendations InvestmentFromFriendsCount  \\\n",
       "0            1.0                0                          0   \n",
       "1            1.0                0                          0   \n",
       "2            1.0                0                          0   \n",
       "3            1.0                0                          0   \n",
       "4            1.0                0                          0   \n",
       "\n",
       "  InvestmentFromFriendsAmount Investors  \n",
       "0                         0.0       258  \n",
       "1                         0.0         1  \n",
       "2                         0.0        41  \n",
       "3                         0.0       158  \n",
       "4                         0.0        20  \n",
       "\n",
       "[5 rows x 81 columns]"
      ]
     },
     "execution_count": 2,
     "metadata": {},
     "output_type": "execute_result"
    }
   ],
   "source": [
    "loan_df = pd.read_csv('raw/prosperLoanData.csv')\n",
    "loan_df.head()"
   ]
  },
  {
   "cell_type": "code",
   "execution_count": 3,
   "metadata": {},
   "outputs": [
    {
     "data": {
      "text/plain": [
       "(113937, 81)"
      ]
     },
     "execution_count": 3,
     "metadata": {},
     "output_type": "execute_result"
    }
   ],
   "source": [
    "loan_df.shape"
   ]
  },
  {
   "cell_type": "code",
   "execution_count": 4,
   "metadata": {},
   "outputs": [
    {
     "name": "stdout",
     "output_type": "stream",
     "text": [
      "<class 'pandas.core.frame.DataFrame'>\n",
      "RangeIndex: 113937 entries, 0 to 113936\n",
      "Data columns (total 81 columns):\n",
      "ListingKey                             113937 non-null object\n",
      "ListingNumber                          113937 non-null int64\n",
      "ListingCreationDate                    113937 non-null object\n",
      "CreditGrade                            28953 non-null object\n",
      "Term                                   113937 non-null int64\n",
      "LoanStatus                             113937 non-null object\n",
      "ClosedDate                             55089 non-null object\n",
      "BorrowerAPR                            113912 non-null float64\n",
      "BorrowerRate                           113937 non-null float64\n",
      "LenderYield                            113937 non-null float64\n",
      "EstimatedEffectiveYield                84853 non-null float64\n",
      "EstimatedLoss                          84853 non-null float64\n",
      "EstimatedReturn                        84853 non-null float64\n",
      "ProsperRating (numeric)                84853 non-null float64\n",
      "ProsperRating (Alpha)                  84853 non-null object\n",
      "ProsperScore                           84853 non-null float64\n",
      "ListingCategory (numeric)              113937 non-null int64\n",
      "BorrowerState                          108422 non-null object\n",
      "Occupation                             110349 non-null object\n",
      "EmploymentStatus                       111682 non-null object\n",
      "EmploymentStatusDuration               106312 non-null float64\n",
      "IsBorrowerHomeowner                    113937 non-null bool\n",
      "CurrentlyInGroup                       113937 non-null bool\n",
      "GroupKey                               13341 non-null object\n",
      "DateCreditPulled                       113937 non-null object\n",
      "CreditScoreRangeLower                  113346 non-null float64\n",
      "CreditScoreRangeUpper                  113346 non-null float64\n",
      "FirstRecordedCreditLine                113240 non-null object\n",
      "CurrentCreditLines                     106333 non-null float64\n",
      "OpenCreditLines                        106333 non-null float64\n",
      "TotalCreditLinespast7years             113240 non-null float64\n",
      "OpenRevolvingAccounts                  113937 non-null int64\n",
      "OpenRevolvingMonthlyPayment            113937 non-null float64\n",
      "InquiriesLast6Months                   113240 non-null float64\n",
      "TotalInquiries                         112778 non-null float64\n",
      "CurrentDelinquencies                   113240 non-null float64\n",
      "AmountDelinquent                       106315 non-null float64\n",
      "DelinquenciesLast7Years                112947 non-null float64\n",
      "PublicRecordsLast10Years               113240 non-null float64\n",
      "PublicRecordsLast12Months              106333 non-null float64\n",
      "RevolvingCreditBalance                 106333 non-null float64\n",
      "BankcardUtilization                    106333 non-null float64\n",
      "AvailableBankcardCredit                106393 non-null float64\n",
      "TotalTrades                            106393 non-null float64\n",
      "TradesNeverDelinquent (percentage)     106393 non-null float64\n",
      "TradesOpenedLast6Months                106393 non-null float64\n",
      "DebtToIncomeRatio                      105383 non-null float64\n",
      "IncomeRange                            113937 non-null object\n",
      "IncomeVerifiable                       113937 non-null bool\n",
      "StatedMonthlyIncome                    113937 non-null float64\n",
      "LoanKey                                113937 non-null object\n",
      "TotalProsperLoans                      22085 non-null float64\n",
      "TotalProsperPaymentsBilled             22085 non-null float64\n",
      "OnTimeProsperPayments                  22085 non-null float64\n",
      "ProsperPaymentsLessThanOneMonthLate    22085 non-null float64\n",
      "ProsperPaymentsOneMonthPlusLate        22085 non-null float64\n",
      "ProsperPrincipalBorrowed               22085 non-null float64\n",
      "ProsperPrincipalOutstanding            22085 non-null float64\n",
      "ScorexChangeAtTimeOfListing            18928 non-null float64\n",
      "LoanCurrentDaysDelinquent              113937 non-null int64\n",
      "LoanFirstDefaultedCycleNumber          16952 non-null float64\n",
      "LoanMonthsSinceOrigination             113937 non-null int64\n",
      "LoanNumber                             113937 non-null int64\n",
      "LoanOriginalAmount                     113937 non-null int64\n",
      "LoanOriginationDate                    113937 non-null object\n",
      "LoanOriginationQuarter                 113937 non-null object\n",
      "MemberKey                              113937 non-null object\n",
      "MonthlyLoanPayment                     113937 non-null float64\n",
      "LP_CustomerPayments                    113937 non-null float64\n",
      "LP_CustomerPrincipalPayments           113937 non-null float64\n",
      "LP_InterestandFees                     113937 non-null float64\n",
      "LP_ServiceFees                         113937 non-null float64\n",
      "LP_CollectionFees                      113937 non-null float64\n",
      "LP_GrossPrincipalLoss                  113937 non-null float64\n",
      "LP_NetPrincipalLoss                    113937 non-null float64\n",
      "LP_NonPrincipalRecoverypayments        113937 non-null float64\n",
      "PercentFunded                          113937 non-null float64\n",
      "Recommendations                        113937 non-null int64\n",
      "InvestmentFromFriendsCount             113937 non-null int64\n",
      "InvestmentFromFriendsAmount            113937 non-null float64\n",
      "Investors                              113937 non-null int64\n",
      "dtypes: bool(3), float64(50), int64(11), object(17)\n",
      "memory usage: 68.1+ MB\n"
     ]
    }
   ],
   "source": [
    "loan_df.info()"
   ]
  },
  {
   "cell_type": "markdown",
   "metadata": {},
   "source": [
    "#### Data Cleaning Process"
   ]
  },
  {
   "cell_type": "code",
   "execution_count": 7,
   "metadata": {},
   "outputs": [],
   "source": [
    "# Define features of interest for this analysis\n",
    "features = ['ProsperScore', 'ListingCategory (numeric)', 'EmploymentStatus', 'EmploymentStatusDuration', \\\n",
    "            'IsBorrowerHomeowner', 'CurrentCreditLines', 'OpenRevolvingAccounts', 'DebtToIncomeRatio', \\\n",
    "            'IncomeVerifiable', 'Recommendations', 'LoanStatus']"
   ]
  },
  {
   "cell_type": "code",
   "execution_count": 8,
   "metadata": {},
   "outputs": [
    {
     "data": {
      "text/html": [
       "<div>\n",
       "<style scoped>\n",
       "    .dataframe tbody tr th:only-of-type {\n",
       "        vertical-align: middle;\n",
       "    }\n",
       "\n",
       "    .dataframe tbody tr th {\n",
       "        vertical-align: top;\n",
       "    }\n",
       "\n",
       "    .dataframe thead th {\n",
       "        text-align: right;\n",
       "    }\n",
       "</style>\n",
       "<table border=\"1\" class=\"dataframe\">\n",
       "  <thead>\n",
       "    <tr style=\"text-align: right;\">\n",
       "      <th></th>\n",
       "      <th>ProsperScore</th>\n",
       "      <th>ListingCategory (numeric)</th>\n",
       "      <th>EmploymentStatus</th>\n",
       "      <th>EmploymentStatusDuration</th>\n",
       "      <th>IsBorrowerHomeowner</th>\n",
       "      <th>CurrentCreditLines</th>\n",
       "      <th>OpenRevolvingAccounts</th>\n",
       "      <th>DebtToIncomeRatio</th>\n",
       "      <th>IncomeVerifiable</th>\n",
       "      <th>Recommendations</th>\n",
       "      <th>LoanStatus</th>\n",
       "    </tr>\n",
       "  </thead>\n",
       "  <tbody>\n",
       "    <tr>\n",
       "      <th>35265</th>\n",
       "      <td>5.0</td>\n",
       "      <td>13</td>\n",
       "      <td>Employed</td>\n",
       "      <td>69.0</td>\n",
       "      <td>False</td>\n",
       "      <td>13.0</td>\n",
       "      <td>5</td>\n",
       "      <td>0.34</td>\n",
       "      <td>True</td>\n",
       "      <td>0</td>\n",
       "      <td>Past Due (&gt;120 days)</td>\n",
       "    </tr>\n",
       "    <tr>\n",
       "      <th>36360</th>\n",
       "      <td>11.0</td>\n",
       "      <td>2</td>\n",
       "      <td>Employed</td>\n",
       "      <td>22.0</td>\n",
       "      <td>True</td>\n",
       "      <td>9.0</td>\n",
       "      <td>4</td>\n",
       "      <td>0.13</td>\n",
       "      <td>True</td>\n",
       "      <td>0</td>\n",
       "      <td>Current</td>\n",
       "    </tr>\n",
       "    <tr>\n",
       "      <th>72621</th>\n",
       "      <td>5.0</td>\n",
       "      <td>7</td>\n",
       "      <td>Employed</td>\n",
       "      <td>16.0</td>\n",
       "      <td>False</td>\n",
       "      <td>9.0</td>\n",
       "      <td>6</td>\n",
       "      <td>0.18</td>\n",
       "      <td>True</td>\n",
       "      <td>0</td>\n",
       "      <td>Current</td>\n",
       "    </tr>\n",
       "    <tr>\n",
       "      <th>19175</th>\n",
       "      <td>4.0</td>\n",
       "      <td>7</td>\n",
       "      <td>Employed</td>\n",
       "      <td>161.0</td>\n",
       "      <td>True</td>\n",
       "      <td>5.0</td>\n",
       "      <td>4</td>\n",
       "      <td>0.05</td>\n",
       "      <td>True</td>\n",
       "      <td>0</td>\n",
       "      <td>Completed</td>\n",
       "    </tr>\n",
       "    <tr>\n",
       "      <th>104994</th>\n",
       "      <td>4.0</td>\n",
       "      <td>1</td>\n",
       "      <td>Employed</td>\n",
       "      <td>126.0</td>\n",
       "      <td>True</td>\n",
       "      <td>14.0</td>\n",
       "      <td>10</td>\n",
       "      <td>0.24</td>\n",
       "      <td>True</td>\n",
       "      <td>0</td>\n",
       "      <td>Current</td>\n",
       "    </tr>\n",
       "  </tbody>\n",
       "</table>\n",
       "</div>"
      ],
      "text/plain": [
       "        ProsperScore  ListingCategory (numeric) EmploymentStatus  \\\n",
       "35265            5.0                         13         Employed   \n",
       "36360           11.0                          2         Employed   \n",
       "72621            5.0                          7         Employed   \n",
       "19175            4.0                          7         Employed   \n",
       "104994           4.0                          1         Employed   \n",
       "\n",
       "        EmploymentStatusDuration  IsBorrowerHomeowner  CurrentCreditLines  \\\n",
       "35265                       69.0                False                13.0   \n",
       "36360                       22.0                 True                 9.0   \n",
       "72621                       16.0                False                 9.0   \n",
       "19175                      161.0                 True                 5.0   \n",
       "104994                     126.0                 True                14.0   \n",
       "\n",
       "        OpenRevolvingAccounts  DebtToIncomeRatio  IncomeVerifiable  \\\n",
       "35265                       5               0.34              True   \n",
       "36360                       4               0.13              True   \n",
       "72621                       6               0.18              True   \n",
       "19175                       4               0.05              True   \n",
       "104994                     10               0.24              True   \n",
       "\n",
       "        Recommendations            LoanStatus  \n",
       "35265                 0  Past Due (>120 days)  \n",
       "36360                 0               Current  \n",
       "72621                 0               Current  \n",
       "19175                 0             Completed  \n",
       "104994                0               Current  "
      ]
     },
     "execution_count": 8,
     "metadata": {},
     "output_type": "execute_result"
    }
   ],
   "source": [
    "# Look at the dataset\n",
    "loan_df[features].sample(5)"
   ]
  },
  {
   "cell_type": "code",
   "execution_count": 9,
   "metadata": {},
   "outputs": [
    {
     "name": "stdout",
     "output_type": "stream",
     "text": [
      "<class 'pandas.core.frame.DataFrame'>\n",
      "RangeIndex: 113937 entries, 0 to 113936\n",
      "Data columns (total 11 columns):\n",
      "ProsperScore                 84853 non-null float64\n",
      "ListingCategory (numeric)    113937 non-null int64\n",
      "EmploymentStatus             111682 non-null object\n",
      "EmploymentStatusDuration     106312 non-null float64\n",
      "IsBorrowerHomeowner          113937 non-null bool\n",
      "CurrentCreditLines           106333 non-null float64\n",
      "OpenRevolvingAccounts        113937 non-null int64\n",
      "DebtToIncomeRatio            105383 non-null float64\n",
      "IncomeVerifiable             113937 non-null bool\n",
      "Recommendations              113937 non-null int64\n",
      "LoanStatus                   113937 non-null object\n",
      "dtypes: bool(2), float64(4), int64(3), object(2)\n",
      "memory usage: 8.0+ MB\n"
     ]
    }
   ],
   "source": [
    "loan_df[features].info()"
   ]
  },
  {
   "cell_type": "code",
   "execution_count": 10,
   "metadata": {},
   "outputs": [
    {
     "data": {
      "text/plain": [
       "array(['Completed', 'Current', 'Past Due (1-15 days)', 'Defaulted',\n",
       "       'Chargedoff', 'Past Due (16-30 days)', 'Cancelled',\n",
       "       'Past Due (61-90 days)', 'Past Due (31-60 days)',\n",
       "       'Past Due (91-120 days)', 'FinalPaymentInProgress',\n",
       "       'Past Due (>120 days)'], dtype=object)"
      ]
     },
     "execution_count": 10,
     "metadata": {},
     "output_type": "execute_result"
    }
   ],
   "source": [
    "# Check unique LoanStatus\n",
    "loan_df['LoanStatus'].unique()"
   ]
  },
  {
   "cell_type": "code",
   "execution_count": 23,
   "metadata": {},
   "outputs": [],
   "source": [
    "# Define LoanStatus as a category\n",
    "loan_status_dict = ['Defaulted','Chargedoff','Past Due (>120 days)',\n",
    "                    'Past Due (91-120 days)', 'Past Due (61-90 days)', \n",
    "                    'Past Due (31-60 days)', 'Past Due (16-30 days)', 'Past Due (1-15 days)', \n",
    "                    'Current', 'FinalPaymentInProgress', 'Completed']\n",
    "\n",
    "ordered_loan_status = pd.api.types.CategoricalDtype(ordered = True, categories = loan_status_dict)\n",
    "\n",
    "loan_df['LoanStatus'] = loan_df['LoanStatus'].astype(ordered_loan_status)"
   ]
  },
  {
   "cell_type": "code",
   "execution_count": 11,
   "metadata": {},
   "outputs": [
    {
     "data": {
      "text/plain": [
       "array(['Self-employed', 'Employed', 'Not available', 'Full-time', 'Other',\n",
       "       nan, 'Not employed', 'Part-time', 'Retired'], dtype=object)"
      ]
     },
     "execution_count": 11,
     "metadata": {},
     "output_type": "execute_result"
    }
   ],
   "source": [
    "# Check unique Employment Status\n",
    "loan_df['EmploymentStatus'].unique()"
   ]
  },
  {
   "cell_type": "code",
   "execution_count": 16,
   "metadata": {},
   "outputs": [],
   "source": [
    "# Fill nan values with 'Not available'\n",
    "loan_df['EmploymentStatus'].fillna(value='Not available', inplace=True)"
   ]
  },
  {
   "cell_type": "code",
   "execution_count": 22,
   "metadata": {},
   "outputs": [],
   "source": [
    "# Define EmploymentStatus as a category\n",
    "employment_status_dict = ['Not available', 'Other', 'Not employed', 'Self-employed', \n",
    "                                               'Part-time', 'Full-time', 'Employed', 'Retired']\n",
    "\n",
    "ordered_employment_status = pd.api.types.CategoricalDtype(ordered = True, categories = employment_status_dict)\n",
    "loan_df['EmploymentStatus'] = loan_df['EmploymentStatus'].astype(ordered_employment_status)"
   ]
  },
  {
   "cell_type": "code",
   "execution_count": 19,
   "metadata": {},
   "outputs": [],
   "source": [
    "# Decode ListingCategory (numeric) feature\n",
    "list_dict = {0 : 'Not Available', 1 : 'Debt Consolidation', 2 : 'Home Improvement', 3: 'Business', \n",
    "             4 : 'Personal Loan', 5 : 'Student Use', 6 : 'Auto', 7 : 'Other', 8 : 'Baby&Adoption', \n",
    "             9 : 'Boat', 10 : 'Cosmetic Procedure', 11 : 'Engagement Ring', 12 : 'Green Loans',\n",
    "             13 : 'Household Expenses', 14 : 'Large Purchases', 15 : 'Medical/Dental', 16 : 'Motorcycle',\n",
    "             17 : 'RV', 18 : 'Taxes', 19 : 'Vacation', 20 : 'Wedding Loans'}\n",
    "\n",
    "loan_df['ListingCategory'] = loan_df['ListingCategory (numeric)'].map(list_dict)"
   ]
  },
  {
   "cell_type": "code",
   "execution_count": 20,
   "metadata": {},
   "outputs": [
    {
     "data": {
      "text/html": [
       "<div>\n",
       "<style scoped>\n",
       "    .dataframe tbody tr th:only-of-type {\n",
       "        vertical-align: middle;\n",
       "    }\n",
       "\n",
       "    .dataframe tbody tr th {\n",
       "        vertical-align: top;\n",
       "    }\n",
       "\n",
       "    .dataframe thead th {\n",
       "        text-align: right;\n",
       "    }\n",
       "</style>\n",
       "<table border=\"1\" class=\"dataframe\">\n",
       "  <thead>\n",
       "    <tr style=\"text-align: right;\">\n",
       "      <th></th>\n",
       "      <th>ListingCategory (numeric)</th>\n",
       "      <th>ListingCategory</th>\n",
       "    </tr>\n",
       "  </thead>\n",
       "  <tbody>\n",
       "    <tr>\n",
       "      <th>35787</th>\n",
       "      <td>0</td>\n",
       "      <td>Not Available</td>\n",
       "    </tr>\n",
       "    <tr>\n",
       "      <th>88368</th>\n",
       "      <td>0</td>\n",
       "      <td>Not Available</td>\n",
       "    </tr>\n",
       "    <tr>\n",
       "      <th>6951</th>\n",
       "      <td>6</td>\n",
       "      <td>Auto</td>\n",
       "    </tr>\n",
       "    <tr>\n",
       "      <th>13469</th>\n",
       "      <td>15</td>\n",
       "      <td>Medical/Dental</td>\n",
       "    </tr>\n",
       "    <tr>\n",
       "      <th>19068</th>\n",
       "      <td>3</td>\n",
       "      <td>Business</td>\n",
       "    </tr>\n",
       "    <tr>\n",
       "      <th>52749</th>\n",
       "      <td>1</td>\n",
       "      <td>Debt Consolidation</td>\n",
       "    </tr>\n",
       "    <tr>\n",
       "      <th>31220</th>\n",
       "      <td>7</td>\n",
       "      <td>Other</td>\n",
       "    </tr>\n",
       "    <tr>\n",
       "      <th>81449</th>\n",
       "      <td>1</td>\n",
       "      <td>Debt Consolidation</td>\n",
       "    </tr>\n",
       "    <tr>\n",
       "      <th>32297</th>\n",
       "      <td>1</td>\n",
       "      <td>Debt Consolidation</td>\n",
       "    </tr>\n",
       "    <tr>\n",
       "      <th>34825</th>\n",
       "      <td>4</td>\n",
       "      <td>Personal Loan</td>\n",
       "    </tr>\n",
       "  </tbody>\n",
       "</table>\n",
       "</div>"
      ],
      "text/plain": [
       "       ListingCategory (numeric)     ListingCategory\n",
       "35787                          0       Not Available\n",
       "88368                          0       Not Available\n",
       "6951                           6                Auto\n",
       "13469                         15      Medical/Dental\n",
       "19068                          3            Business\n",
       "52749                          1  Debt Consolidation\n",
       "31220                          7               Other\n",
       "81449                          1  Debt Consolidation\n",
       "32297                          1  Debt Consolidation\n",
       "34825                          4       Personal Loan"
      ]
     },
     "execution_count": 20,
     "metadata": {},
     "output_type": "execute_result"
    }
   ],
   "source": [
    "# Look at the new ListingCategory feature\n",
    "loan_df[['ListingCategory (numeric)', 'ListingCategory']].sample(10)"
   ]
  },
  {
   "cell_type": "markdown",
   "metadata": {},
   "source": [
    "### What is the structure of your dataset?\n",
    "\n",
    "There are 113,937 loans in the dataset with 81 features. This analysis will focus on factors that are related to Prosper loans status (`LoanStatus`).\n",
    "\n",
    "The independent variables of interest are:\n",
    "- `ProsperScore`\n",
    "- `ListingCategory`\n",
    "- `EmploymentStatus`\n",
    "- `EmploymentStatusDuration`\n",
    "- `IsBorrowerHomeowner`\n",
    "- `CurrentCreditLines`\n",
    "- `OpenRevolvingAccounts`\n",
    "- `DebtToIncomeRatio`\n",
    "- `IncomeVerifiable`\n",
    "- `Recommendations`\n",
    "\n",
    "\n",
    "### What is/are the main feature(s) of interest in your dataset?\n",
    "\n",
    "This analysis will focus on figuring out what features are best for predicting Prosper's loan statuses.\n",
    "\n",
    "### What features in the dataset do you think will help support your investigation into your feature(s) of interest?\n",
    "\n",
    "To investigate which features likely impacts loan statuses, a list of borrowers features along with the type of the listing will be analyzed during this project.\n"
   ]
  },
  {
   "cell_type": "markdown",
   "metadata": {},
   "source": [
    "## Univariate Exploration\n",
    "\n",
    "I'll start by looking at the distribution of the main variable of interest: `LoanStatus`. Let's plot this variable to have an idea of its distribution."
   ]
  },
  {
   "cell_type": "code",
   "execution_count": 30,
   "metadata": {},
   "outputs": [
    {
     "data": {
      "image/png": "[encoded data removed]",
      "text/plain": [
       "<Figure size 432x288 with 1 Axes>"
      ]
     },
     "metadata": {
      "needs_background": "light"
     },
     "output_type": "display_data"
    }
   ],
   "source": [
    "# Plot LoanStatus\n",
    "default_color = sb.color_palette()[0]\n",
    "\n",
    "# Order the categorical variable type\n",
    "cat_order = loan_df['LoanStatus'].value_counts().index\n",
    "\n",
    "sb.countplot(data = loan_df, y = 'LoanStatus', color = default_color, order=cat_order)\n",
    "plt.xlabel('# of Loans')\n",
    "plt.ylabel('Status');"
   ]
  },
  {
   "cell_type": "code",
   "execution_count": 60,
   "metadata": {},
   "outputs": [
    {
     "data": {
      "text/html": [
       "<div>\n",
       "<style scoped>\n",
       "    .dataframe tbody tr th:only-of-type {\n",
       "        vertical-align: middle;\n",
       "    }\n",
       "\n",
       "    .dataframe tbody tr th {\n",
       "        vertical-align: top;\n",
       "    }\n",
       "\n",
       "    .dataframe thead th {\n",
       "        text-align: right;\n",
       "    }\n",
       "</style>\n",
       "<table border=\"1\" class=\"dataframe\">\n",
       "  <thead>\n",
       "    <tr style=\"text-align: right;\">\n",
       "      <th></th>\n",
       "      <th>LoanStatus</th>\n",
       "      <th>PctLoans</th>\n",
       "    </tr>\n",
       "    <tr>\n",
       "      <th>LoanStatus</th>\n",
       "      <th></th>\n",
       "      <th></th>\n",
       "    </tr>\n",
       "  </thead>\n",
       "  <tbody>\n",
       "    <tr>\n",
       "      <th>Current</th>\n",
       "      <td>56576</td>\n",
       "      <td>49.657691</td>\n",
       "    </tr>\n",
       "    <tr>\n",
       "      <th>Completed</th>\n",
       "      <td>38074</td>\n",
       "      <td>33.418179</td>\n",
       "    </tr>\n",
       "    <tr>\n",
       "      <th>Chargedoff</th>\n",
       "      <td>11992</td>\n",
       "      <td>10.525577</td>\n",
       "    </tr>\n",
       "    <tr>\n",
       "      <th>Defaulted</th>\n",
       "      <td>5018</td>\n",
       "      <td>4.404382</td>\n",
       "    </tr>\n",
       "    <tr>\n",
       "      <th>Past Due (1-15 days)</th>\n",
       "      <td>806</td>\n",
       "      <td>0.707440</td>\n",
       "    </tr>\n",
       "    <tr>\n",
       "      <th>Past Due (31-60 days)</th>\n",
       "      <td>363</td>\n",
       "      <td>0.318611</td>\n",
       "    </tr>\n",
       "    <tr>\n",
       "      <th>Past Due (61-90 days)</th>\n",
       "      <td>313</td>\n",
       "      <td>0.274725</td>\n",
       "    </tr>\n",
       "    <tr>\n",
       "      <th>Past Due (91-120 days)</th>\n",
       "      <td>304</td>\n",
       "      <td>0.266826</td>\n",
       "    </tr>\n",
       "    <tr>\n",
       "      <th>Past Due (16-30 days)</th>\n",
       "      <td>265</td>\n",
       "      <td>0.232595</td>\n",
       "    </tr>\n",
       "    <tr>\n",
       "      <th>FinalPaymentInProgress</th>\n",
       "      <td>205</td>\n",
       "      <td>0.179932</td>\n",
       "    </tr>\n",
       "    <tr>\n",
       "      <th>Past Due (&gt;120 days)</th>\n",
       "      <td>16</td>\n",
       "      <td>0.014043</td>\n",
       "    </tr>\n",
       "  </tbody>\n",
       "</table>\n",
       "</div>"
      ],
      "text/plain": [
       "                        LoanStatus   PctLoans\n",
       "LoanStatus                                   \n",
       "Current                      56576  49.657691\n",
       "Completed                    38074  33.418179\n",
       "Chargedoff                   11992  10.525577\n",
       "Defaulted                     5018   4.404382\n",
       "Past Due (1-15 days)           806   0.707440\n",
       "Past Due (31-60 days)          363   0.318611\n",
       "Past Due (61-90 days)          313   0.274725\n",
       "Past Due (91-120 days)         304   0.266826\n",
       "Past Due (16-30 days)          265   0.232595\n",
       "FinalPaymentInProgress         205   0.179932\n",
       "Past Due (>120 days)            16   0.014043"
      ]
     },
     "execution_count": 60,
     "metadata": {},
     "output_type": "execute_result"
    }
   ],
   "source": [
    "# Check the percentage of loans in each status\n",
    "pct_loans_by_status = pd.DataFrame(loan_df.groupby('LoanStatus')['LoanStatus'].count())\n",
    "pct_loans_by_status['PctLoans'] = (pct_loans_by_status['LoanStatus']/pct_loans_by_status['LoanStatus'].sum())*100\n",
    "pct_loans_by_status.sort_values(by='PctLoans', ascending=False)"
   ]
  },
  {
   "cell_type": "markdown",
   "metadata": {},
   "source": [
    "More than 80% of all Prosper loans are either current or completed. Among them, almost 50% are active and being paid by Prosper's borrowers. However, about 15% of Prosper's loans were charged-off or defaulted. \n",
    "\n",
    "During this analysis, we'll try to undercover which of the features listed above may contribute to 15% of charged-off and defaulted loans.\n",
    "\n",
    "Let's first analyze the distribution of Prosper's borrowers risk."
   ]
  },
  {
   "cell_type": "code",
   "execution_count": 90,
   "metadata": {},
   "outputs": [
    {
     "data": {
      "image/png": "[encoded data removed]",
      "text/plain": [
       "<Figure size 576x360 with 1 Axes>"
      ]
     },
     "metadata": {
      "needs_background": "light"
     },
     "output_type": "display_data"
    }
   ],
   "source": [
    "# Plot a standard-scaled plot for ProsperScore\n",
    "binsize = 1\n",
    "bins = np.arange(0, loan_df['ProsperScore'].max()+binsize, binsize)\n",
    "\n",
    "plt.figure(figsize=[8, 5])\n",
    "sb.countplot(data = loan_df, x = 'ProsperScore', color = default_color)\n",
    "plt.xlabel('Borrower Risk Score by Prosper')\n",
    "plt.ylabel('# of Borrowers');"
   ]
  },
  {
   "cell_type": "markdown",
   "metadata": {},
   "source": [
    "Analyzing the distribution of all Prosper's borrowers risk, we noticed that most of the borrowers' risk scores are between 2 and 10 points. \n",
    "\n",
    "Let's continue our analysis and take a look at the debt to income ratio of all borrowers."
   ]
  },
  {
   "cell_type": "code",
   "execution_count": 89,
   "metadata": {},
   "outputs": [
    {
     "data": {
      "image/png": "[encoded data removed]",
      "text/plain": [
       "<Figure size 576x360 with 1 Axes>"
      ]
     },
     "metadata": {
      "needs_background": "light"
     },
     "output_type": "display_data"
    }
   ],
   "source": [
    "# Plot a standard-scaled plot for DebtToIncomeRatio\n",
    "binsize = 0.1\n",
    "bins = np.arange(0, loan_df['DebtToIncomeRatio'].max()+binsize, binsize)\n",
    "\n",
    "plt.figure(figsize=[8, 5])\n",
    "plt.hist(data = loan_df, x = 'DebtToIncomeRatio', bins = bins)\n",
    "plt.xlabel('Debt to Income Ratio')\n",
    "plt.ylabel('# of Borrowers');"
   ]
  },
  {
   "cell_type": "markdown",
   "metadata": {},
   "source": [
    "The distribution above shows that most of Prosper's borrowers have a debt to income ratio between zero and 1.5. It's worth to zoom in this range to better analyze this feature.\n",
    "\n",
    "It's also important to keep in mind that those borrowers with higher debt to income ratio should be analyzed since them can highlight what features can lead to a charged-off or defaulted loan.\n",
    "\n"
   ]
  },
  {
   "cell_type": "code",
   "execution_count": 91,
   "metadata": {},
   "outputs": [
    {
     "data": {
      "image/png": "[encoded data removed]",
      "text/plain": [
       "<Figure size 576x360 with 1 Axes>"
      ]
     },
     "metadata": {
      "needs_background": "light"
     },
     "output_type": "display_data"
    }
   ],
   "source": [
    "# Plot a standard-scaled plot for DebtToIncomeRatio\n",
    "binsize = 0.02\n",
    "bins = np.arange(0, loan_df['DebtToIncomeRatio'].max()+binsize, binsize)\n",
    "\n",
    "plt.figure(figsize=[8, 5])\n",
    "plt.hist(data = loan_df[loan_df['DebtToIncomeRatio'].notnull()], x = 'DebtToIncomeRatio', bins = bins)\n",
    "plt.xlabel('Debt to Income Ratio')\n",
    "plt.ylabel('# of Borrowers')\n",
    "plt.xlim(0,1.5);"
   ]
  },
  {
   "cell_type": "markdown",
   "metadata": {},
   "source": [
    "The zoomed distribution shows that few borrowers have a debt to income ratio more than 1. And its majority follow between 0 and 0.4. \n",
    "\n",
    "Moving on to analyze the distribution of open revolving accounts and current credit lines."
   ]
  },
  {
   "cell_type": "code",
   "execution_count": 101,
   "metadata": {},
   "outputs": [
    {
     "data": {
      "image/png": "[encoded data removed]",
      "text/plain": [
       "<Figure size 1080x360 with 1 Axes>"
      ]
     },
     "metadata": {
      "needs_background": "light"
     },
     "output_type": "display_data"
    }
   ],
   "source": [
    "# Plot a standard-scaled plot for OpenRevolvingAccounts\n",
    "plt.figure(figsize=[15, 5])\n",
    "\n",
    "sb.countplot(data = loan_df, x = 'OpenRevolvingAccounts', color = default_color)\n",
    "plt.xlabel('Open Revolving Accounts')\n",
    "plt.ylabel('# of Borrowers');"
   ]
  },
  {
   "cell_type": "markdown",
   "metadata": {},
   "source": [
    "Here we also can see that most borrowers have up to 15 revolving accounts. The remaining borrowers have an unsual number of revolving accounts, which should be analyzed to better undertand how it is related with loan statuses."
   ]
  },
  {
   "cell_type": "code",
   "execution_count": 117,
   "metadata": {},
   "outputs": [
    {
     "data": {
      "image/png": "[encoded data removed]",
      "text/plain": [
       "<Figure size 1440x360 with 1 Axes>"
      ]
     },
     "metadata": {
      "needs_background": "light"
     },
     "output_type": "display_data"
    }
   ],
   "source": [
    "# Plot a standard-scaled plot for CurrentCreditLines\n",
    "plt.subplots(figsize = [20,5])\n",
    "\n",
    "sb.countplot(data = loan_df, x = 'CurrentCreditLines', color = default_color)\n",
    "plt.xlabel('Current Credit Lines')\n",
    "plt.ylabel('# of Borrowers')\n",
    "plt.xticks(rotation=90);"
   ]
  },
  {
   "cell_type": "markdown",
   "metadata": {},
   "source": [
    "Most of Prosper's borrowers have at least two current lines of credit. It would be interting to compare if loans statuses with number of current lines of credit.\n",
    "\n",
    "Let's take a look at the distribution of listing categories. In other words, which type of loan has more borrowers:"
   ]
  },
  {
   "cell_type": "code",
   "execution_count": 124,
   "metadata": {},
   "outputs": [
    {
     "data": {
      "image/png": "[encoded data removed]",
      "text/plain": [
       "<Figure size 720x360 with 1 Axes>"
      ]
     },
     "metadata": {
      "needs_background": "light"
     },
     "output_type": "display_data"
    }
   ],
   "source": [
    "# Plot a standard-scaled plot for ListingCategory\n",
    "plt.figure(figsize=[10, 5])\n",
    "\n",
    "# Order the categorical variable type\n",
    "cat_order = loan_df['ListingCategory'].value_counts().index\n",
    "\n",
    "sb.countplot(data = loan_df, y = 'ListingCategory', color = default_color, order=cat_order)\n",
    "plt.ylabel('Listing Category')\n",
    "plt.xlabel('# of Borrowers');"
   ]
  },
  {
   "cell_type": "markdown",
   "metadata": {},
   "source": [
    "No doubt that debt consolidation is the most popular type of listing/loan at Prosper. What we may want to know is if there is a particular listing which high number of charged-off or defaulted loans.\n",
    "\n",
    "We'll now look at the remaining features selected for this analysis to see if any of them hold interesting properties."
   ]
  },
  {
   "cell_type": "code",
   "execution_count": 137,
   "metadata": {},
   "outputs": [
    {
     "data": {
      "image/png": "[encoded data removed]",
      "text/plain": [
       "<Figure size 360x360 with 1 Axes>"
      ]
     },
     "metadata": {
      "needs_background": "light"
     },
     "output_type": "display_data"
    }
   ],
   "source": [
    "# Plot for IncomeVerifiable\n",
    "plt.figure(figsize=[5, 5])\n",
    "\n",
    "# Order the categorical variable type\n",
    "cat_order = loan_df['IncomeVerifiable'].value_counts().index\n",
    "\n",
    "sb.countplot(data = loan_df, x = 'IncomeVerifiable', color = default_color, order=cat_order)\n",
    "plt.xlabel('Income Verifiable')\n",
    "plt.ylabel('# of Borrowers');"
   ]
  },
  {
   "cell_type": "code",
   "execution_count": 138,
   "metadata": {},
   "outputs": [
    {
     "data": {
      "image/png": "[encoded data removed]",
      "text/plain": [
       "<Figure size 360x360 with 1 Axes>"
      ]
     },
     "metadata": {
      "needs_background": "light"
     },
     "output_type": "display_data"
    }
   ],
   "source": [
    "# Plot for IsBorrowerHomeowner\n",
    "plt.figure(figsize=[5, 5])\n",
    "\n",
    "# Order the categorical variable type\n",
    "cat_order = loan_df['IsBorrowerHomeowner'].value_counts().index\n",
    "\n",
    "sb.countplot(data = loan_df, x = 'IsBorrowerHomeowner', color = default_color, order=cat_order)\n",
    "plt.xlabel('Homeowner?')\n",
    "plt.ylabel('# of Borrowers');"
   ]
  },
  {
   "cell_type": "code",
   "execution_count": 140,
   "metadata": {},
   "outputs": [
    {
     "data": {
      "image/png": "[encoded data removed]",
      "text/plain": [
       "<Figure size 720x360 with 1 Axes>"
      ]
     },
     "metadata": {
      "needs_background": "light"
     },
     "output_type": "display_data"
    }
   ],
   "source": [
    "# Plot for EmploymentStatus\n",
    "plt.figure(figsize=[10, 5])\n",
    "\n",
    "# Order the categorical variable type\n",
    "cat_order = loan_df['EmploymentStatus'].value_counts().index\n",
    "\n",
    "sb.countplot(data = loan_df, y = 'EmploymentStatus', color = default_color, order=cat_order)\n",
    "plt.xlabel('Employment Status')\n",
    "plt.ylabel('# of Borrowers');"
   ]
  },
  {
   "cell_type": "code",
   "execution_count": 147,
   "metadata": {},
   "outputs": [
    {
     "data": {
      "image/png": "[encoded data removed]",
      "text/plain": [
       "<Figure size 432x288 with 1 Axes>"
      ]
     },
     "metadata": {
      "needs_background": "light"
     },
     "output_type": "display_data"
    }
   ],
   "source": [
    "sb.countplot(data = loan_df, x = 'Recommendations', color = default_color)\n",
    "plt.xlabel('Recommendations')\n",
    "plt.ylabel('# of Borrowers');"
   ]
  },
  {
   "cell_type": "code",
   "execution_count": 148,
   "metadata": {},
   "outputs": [
    {
     "data": {
      "text/plain": [
       "Recommendations\n",
       "0     109678\n",
       "1       3516\n",
       "2        568\n",
       "3        108\n",
       "4         26\n",
       "5         14\n",
       "6          4\n",
       "7          5\n",
       "8          3\n",
       "9          6\n",
       "14         1\n",
       "16         2\n",
       "18         2\n",
       "19         1\n",
       "21         1\n",
       "24         1\n",
       "39         1\n",
       "Name: Recommendations, dtype: int64"
      ]
     },
     "execution_count": 148,
     "metadata": {},
     "output_type": "execute_result"
    }
   ],
   "source": [
    "loan_df.groupby('Recommendations')['Recommendations'].count()"
   ]
  },
  {
   "cell_type": "markdown",
   "metadata": {},
   "source": [
    "It's interesting to noticed the majoroty of borrowers do not have any recommendation. Hence, this feature won't tell much about loan statuses.\n",
    "\n",
    "The only feature not analyzed in this section was `EmploymentStatusDuration` because it only makes sense during the bivariante exploration convered in the next section of this notebook."
   ]
  },
  {
   "cell_type": "markdown",
   "metadata": {},
   "source": [
    "### Discuss the distribution(s) of your variable(s) of interest. Were there any unusual points? Did you need to perform any transformations?\n",
    "\n",
    "> Your answer here!\n",
    "\n",
    "### Of the features you investigated, were there any unusual distributions? Did you perform any operations on the data to tidy, adjust, or change the form of the data? If so, why did you do this?\n",
    "\n",
    "> Your answer here!"
   ]
  },
  {
   "cell_type": "markdown",
   "metadata": {},
   "source": [
    "## Bivariate Exploration\n",
    "\n",
    "> In this section, investigate relationships between pairs of variables in your\n",
    "data. Make sure the variables that you cover here have been introduced in some\n",
    "fashion in the previous section (univariate exploration)."
   ]
  },
  {
   "cell_type": "code",
   "execution_count": null,
   "metadata": {},
   "outputs": [],
   "source": []
  },
  {
   "cell_type": "markdown",
   "metadata": {},
   "source": [
    "### Talk about some of the relationships you observed in this part of the investigation. How did the feature(s) of interest vary with other features in the dataset?\n",
    "\n",
    "> Your answer here!\n",
    "\n",
    "### Did you observe any interesting relationships between the other features (not the main feature(s) of interest)?\n",
    "\n",
    "> Your answer here!"
   ]
  },
  {
   "cell_type": "markdown",
   "metadata": {},
   "source": [
    "## Multivariate Exploration\n",
    "\n",
    "> Create plots of three or more variables to investigate your data even\n",
    "further. Make sure that your investigations are justified, and follow from\n",
    "your work in the previous sections."
   ]
  },
  {
   "cell_type": "code",
   "execution_count": null,
   "metadata": {},
   "outputs": [],
   "source": []
  },
  {
   "cell_type": "markdown",
   "metadata": {},
   "source": [
    "### Talk about some of the relationships you observed in this part of the investigation. Were there features that strengthened each other in terms of looking at your feature(s) of interest?\n",
    "\n",
    "> Your answer here!\n",
    "\n",
    "### Were there any interesting or surprising interactions between features?\n",
    "\n",
    "> Your answer here!"
   ]
  },
  {
   "cell_type": "markdown",
   "metadata": {},
   "source": [
    "> At the end of your report, make sure that you export the notebook as an\n",
    "html file from the `File > Download as... > HTML` menu. Make sure you keep\n",
    "track of where the exported file goes, so you can put it in the same folder\n",
    "as this notebook for project submission. Also, make sure you remove all of\n",
    "the quote-formatted guide notes like this one before you finish your report!"
   ]
  },
  {
   "cell_type": "code",
   "execution_count": null,
   "metadata": {},
   "outputs": [],
   "source": []
  }
 ],
 "metadata": {
  "kernelspec": {
   "display_name": "Python 3",
   "language": "python",
   "name": "python3"
  },
  "language_info": {
   "codemirror_mode": {
    "name": "ipython",
    "version": 3
   },
   "file_extension": ".py",
   "mimetype": "text/x-python",
   "name": "python",
   "nbconvert_exporter": "python",
   "pygments_lexer": "ipython3",
   "version": "3.6.7"
  }
 },
 "nbformat": 4,
 "nbformat_minor": 2
}
